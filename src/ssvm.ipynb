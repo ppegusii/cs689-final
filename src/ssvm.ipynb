{
 "metadata": {
  "name": ""
 },
 "nbformat": 3,
 "nbformat_minor": 0,
 "worksheets": [
  {
   "cells": [
    {
     "cell_type": "code",
     "collapsed": false,
     "input": [
      "import numpy as np\n",
      "from pystruct.models import ChainCRF\n",
      "from pystruct.learners import FrankWolfeSSVM, NSlackSSVM,OneSlackSSVM\n",
      "import argparse\n",
      "import load\n",
      "import split\n",
      "import sys\n",
      "\n",
      "data = load.data('../data/kasteren/2010/datasets/houseA/data.csv.gz')\n",
      "\n",
      "def replace(l, label_map):\n",
      "    return map(lambda x: label_map[int(x)], l)\n",
      "\n",
      "\n",
      "def relabel(data):\n",
      "    y = data['activity']\n",
      "\n",
      "    labels = np.array(np.unique(y), dtype=int)\n",
      "    labels_map = dict( zip(labels, range(len(labels))))\n",
      "    y = replace(y, labels_map)\n",
      "    data['activity'] = y\n",
      "    return data\n"
     ],
     "language": "python",
     "metadata": {},
     "outputs": [],
     "prompt_number": 1
    },
    {
     "cell_type": "code",
     "collapsed": false,
     "input": [
      "data = relabel(data)\n",
      "\n",
      "\n"
     ],
     "language": "python",
     "metadata": {},
     "outputs": [],
     "prompt_number": 2
    },
    {
     "cell_type": "code",
     "collapsed": false,
     "input": [
      "trainDf, testDf, trainLens, testLens, testFrac = split.trainTest(\n",
      "    data, 5400, 5400*2, testSize=0.3)\n",
      "\n",
      "# e.g. structure of the array\n",
      "# X = [np.array([  [f1],[f2],[f3 ] ... [ N days], dtype=uint8 )]\n",
      "# Y = [np.array([   a, b , c])]\n",
      "# splitting so that we get a fraction of the day for training the labels\n",
      "X_train = np.array_split(trainDf.values[:, :trainDf.shape[1] - 2], 200)\n",
      "y_train = np.array_split(trainDf.values[:, trainDf.shape[1] - 1], 200)\n",
      "\n"
     ],
     "language": "python",
     "metadata": {},
     "outputs": [],
     "prompt_number": 4
    },
    {
     "cell_type": "code",
     "collapsed": false,
     "input": [
      "\n",
      "model = ChainCRF()\n",
      "#ssvm = NSlackSSVM(model=model, C=.1, max_iter=11) # almost similar to FrankWolfeSSVM\n",
      "ssvm = FrankWolfeSSVM(model=model, C=0.01, max_iter=11)\n",
      "# c=0.2 -> 62.86 % accuracy <==> c=0.1\n",
      "\n",
      "#ssvm = OneSlackSSVM(model=model) #doesn't work as well\n",
      "ssvm.fit(X_train, y_train)\n"
     ],
     "language": "python",
     "metadata": {},
     "outputs": [
      {
       "ename": "NameError",
       "evalue": "name 'X_test' is not defined",
       "output_type": "pyerr",
       "traceback": [
        "\u001b[0;31m---------------------------------------------------------------------------\u001b[0m\n\u001b[0;31mNameError\u001b[0m                                 Traceback (most recent call last)",
        "\u001b[0;32m<ipython-input-5-157dafae170b>\u001b[0m in \u001b[0;36m<module>\u001b[0;34m()\u001b[0m\n\u001b[1;32m      8\u001b[0m \u001b[0mssvm\u001b[0m\u001b[0;34m.\u001b[0m\u001b[0mfit\u001b[0m\u001b[0;34m(\u001b[0m\u001b[0mX_train\u001b[0m\u001b[0;34m,\u001b[0m \u001b[0my_train\u001b[0m\u001b[0;34m)\u001b[0m\u001b[0;34m\u001b[0m\u001b[0m\n\u001b[1;32m      9\u001b[0m \u001b[0;32mprint\u001b[0m \u001b[0;34m\"Learning complete...\"\u001b[0m\u001b[0;34m\u001b[0m\u001b[0m\n\u001b[0;32m---> 10\u001b[0;31m \u001b[0;32mprint\u001b[0m\u001b[0;34m(\u001b[0m\u001b[0;34m\"Test score with chain CRF: %f\"\u001b[0m \u001b[0;34m%\u001b[0m \u001b[0mssvm\u001b[0m\u001b[0;34m.\u001b[0m\u001b[0mscore\u001b[0m\u001b[0;34m(\u001b[0m\u001b[0mX_test\u001b[0m\u001b[0;34m,\u001b[0m \u001b[0my_test\u001b[0m\u001b[0;34m)\u001b[0m\u001b[0;34m)\u001b[0m\u001b[0;34m\u001b[0m\u001b[0m\n\u001b[0m",
        "\u001b[0;31mNameError\u001b[0m: name 'X_test' is not defined"
       ]
      },
      {
       "output_type": "stream",
       "stream": "stdout",
       "text": [
        "Learning complete...\n"
       ]
      }
     ],
     "prompt_number": 5
    },
    {
     "cell_type": "code",
     "collapsed": false,
     "input": [
      "\n",
      "X_test = np.array_split(np.array(testDf.values[:, :testDf.shape[1] - 2], dtype=np.uint8), 30)\n",
      "y_test = np.array_split(np.array(testDf.values[:, testDf.shape[1] - 1], dtype=np.uint8), 30)\n",
      "\n"
     ],
     "language": "python",
     "metadata": {},
     "outputs": []
    },
    {
     "cell_type": "code",
     "collapsed": false,
     "input": [
      "\n",
      "print \"Learning complete...\"\n",
      "print(\"Test score with chain CRF: %f\" % ssvm.score(X_test, y_test))\n",
      "\n",
      "\n"
     ],
     "language": "python",
     "metadata": {},
     "outputs": []
    }
   ],
   "metadata": {}
  }
 ]
}