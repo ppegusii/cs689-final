{
 "metadata": {
  "name": ""
 },
 "nbformat": 3,
 "nbformat_minor": 0,
 "worksheets": [
  {
   "cells": [
    {
     "cell_type": "code",
     "collapsed": false,
     "input": [
      "import argparse\n",
      "import load\n",
      "import split\n",
      "import sys\n",
      "import pycrfsuite\n",
      "import numpy as np\n",
      "data = load.data('../data/kasteren/2010/datasets/houseB/last.csv.gz', dtype_str=True)\n",
      "\n"
     ],
     "language": "python",
     "metadata": {},
     "outputs": [],
     "prompt_number": 185
    },
    {
     "cell_type": "code",
     "collapsed": false,
     "input": [
      " trainDf, testDf, trainLens, testLens, testFrac = split.trainTest(\n",
      "        data, 5400, 5400*2, testSize=0.3)\n"
     ],
     "language": "python",
     "metadata": {},
     "outputs": [],
     "prompt_number": 186
    },
    {
     "cell_type": "code",
     "collapsed": false,
     "input": [
      "X_train = np.array_split(trainDf.values[:, :trainDf.shape[1] - 2], 200)\n",
      "y_train = np.array_split(trainDf.values[:, trainDf.shape[1] - 1], 200)\n",
      "print len(X_train),  X_train[0].shape"
     ],
     "language": "python",
     "metadata": {},
     "outputs": [
      {
       "output_type": "stream",
       "stream": "stdout",
       "text": [
        "200 (4361, 27)\n"
       ]
      }
     ],
     "prompt_number": 187
    },
    {
     "cell_type": "code",
     "collapsed": false,
     "input": [
      "def sensor2features(s,i):\n",
      "    sensor = s[i]\n",
      "    #features = ['s_'+str(i)+'=' + str(bool(int(sensor[i]))) for i in range(len(sensor))]\n",
      "    features = ['i_'+str(i)+'=' + str(sensor[i]) for i in range(len(sensor))]\n",
      "    #features = np.append(features, features_neg)\n",
      "    return features\n",
      "\n",
      "def s2features(s):\n",
      "    return [sensor2features(s, i) for i in range(len(s))]\n",
      "\n",
      "\n",
      "                                                               \n",
      "                                                        "
     ],
     "language": "python",
     "metadata": {},
     "outputs": [],
     "prompt_number": 188
    },
    {
     "cell_type": "code",
     "collapsed": false,
     "input": [
      "s2features(X_train[0])[0]"
     ],
     "language": "python",
     "metadata": {},
     "outputs": [
      {
       "metadata": {},
       "output_type": "pyout",
       "prompt_number": 189,
       "text": [
        "['i_0=0',\n",
        " 'i_1=0',\n",
        " 'i_2=0',\n",
        " 'i_3=0',\n",
        " 'i_4=0',\n",
        " 'i_5=0',\n",
        " 'i_6=0',\n",
        " 'i_7=0',\n",
        " 'i_8=0',\n",
        " 'i_9=0',\n",
        " 'i_10=0',\n",
        " 'i_11=0',\n",
        " 'i_12=0',\n",
        " 'i_13=0',\n",
        " 'i_14=0',\n",
        " 'i_15=0',\n",
        " 'i_16=0',\n",
        " 'i_17=0',\n",
        " 'i_18=0',\n",
        " 'i_19=0',\n",
        " 'i_20=0',\n",
        " 'i_21=0',\n",
        " 'i_22=0',\n",
        " 'i_23=0',\n",
        " 'i_24=0',\n",
        " 'i_25=0',\n",
        " 'i_26=0']"
       ]
      }
     ],
     "prompt_number": 189
    },
    {
     "cell_type": "code",
     "collapsed": false,
     "input": [
      "X_train1 = [s2features(s) for s in X_train]"
     ],
     "language": "python",
     "metadata": {},
     "outputs": [],
     "prompt_number": 190
    },
    {
     "cell_type": "code",
     "collapsed": false,
     "input": [
      "X_train1[0][0]"
     ],
     "language": "python",
     "metadata": {},
     "outputs": [
      {
       "metadata": {},
       "output_type": "pyout",
       "prompt_number": 191,
       "text": [
        "['i_0=0',\n",
        " 'i_1=0',\n",
        " 'i_2=0',\n",
        " 'i_3=0',\n",
        " 'i_4=0',\n",
        " 'i_5=0',\n",
        " 'i_6=0',\n",
        " 'i_7=0',\n",
        " 'i_8=0',\n",
        " 'i_9=0',\n",
        " 'i_10=0',\n",
        " 'i_11=0',\n",
        " 'i_12=0',\n",
        " 'i_13=0',\n",
        " 'i_14=0',\n",
        " 'i_15=0',\n",
        " 'i_16=0',\n",
        " 'i_17=0',\n",
        " 'i_18=0',\n",
        " 'i_19=0',\n",
        " 'i_20=0',\n",
        " 'i_21=0',\n",
        " 'i_22=0',\n",
        " 'i_23=0',\n",
        " 'i_24=0',\n",
        " 'i_25=0',\n",
        " 'i_26=0']"
       ]
      }
     ],
     "prompt_number": 191
    },
    {
     "cell_type": "code",
     "collapsed": false,
     "input": [
      "trainer = pycrfsuite.Trainer( verbose=False)"
     ],
     "language": "python",
     "metadata": {},
     "outputs": [],
     "prompt_number": 192
    },
    {
     "cell_type": "code",
     "collapsed": false,
     "input": [
      "for xseq, yseq in zip(X_train1, y_train):\n",
      "    trainer.append(xseq, yseq)\n"
     ],
     "language": "python",
     "metadata": {},
     "outputs": [],
     "prompt_number": 193
    },
    {
     "cell_type": "code",
     "collapsed": false,
     "input": [
      "trainer.set_params({\n",
      "    'max_iterations': 11,  # stop earlier\n",
      " 'c1': 1.0,   # coefficient for L1 penalty\n",
      "    'c2': 1e-1,  # coefficient for L2 penalty\n",
      "    # include transitions that are possible, but not observed\n",
      "    'feature.possible_transitions': False\n",
      "    })\n"
     ],
     "language": "python",
     "metadata": {},
     "outputs": [],
     "prompt_number": 194
    },
    {
     "cell_type": "code",
     "collapsed": false,
     "input": [
      "trainer.train('house_b_1.crfsuite')"
     ],
     "language": "python",
     "metadata": {},
     "outputs": [],
     "prompt_number": 195
    },
    {
     "cell_type": "code",
     "collapsed": false,
     "input": [
      "trainer.params()"
     ],
     "language": "python",
     "metadata": {},
     "outputs": [
      {
       "metadata": {},
       "output_type": "pyout",
       "prompt_number": 196,
       "text": [
        "['feature.minfreq',\n",
        " 'feature.possible_states',\n",
        " 'feature.possible_transitions',\n",
        " 'c1',\n",
        " 'c2',\n",
        " 'max_iterations',\n",
        " 'num_memories',\n",
        " 'epsilon',\n",
        " 'period',\n",
        " 'delta',\n",
        " 'linesearch',\n",
        " 'max_linesearch']"
       ]
      }
     ],
     "prompt_number": 196
    },
    {
     "cell_type": "code",
     "collapsed": false,
     "input": [
      "X_test = np.array_split(np.array(testDf.values[:, :testDf.shape[1] - 2], dtype=np.uint8),2)\n",
      "y_test = np.array_split(np.array(testDf.values[:, testDf.shape[1] - 1], dtype=np.uint8),2)\n",
      "print X_test[0].shape\n",
      "X_test = [s2features(s) for s in X_test]\n"
     ],
     "language": "python",
     "metadata": {},
     "outputs": [
      {
       "output_type": "stream",
       "stream": "stdout",
       "text": [
        "(182464, 27)\n"
       ]
      }
     ],
     "prompt_number": 197
    },
    {
     "cell_type": "code",
     "collapsed": false,
     "input": [
      "np.array(X_test[0]).shape"
     ],
     "language": "python",
     "metadata": {},
     "outputs": [
      {
       "metadata": {},
       "output_type": "pyout",
       "prompt_number": 198,
       "text": [
        "(182464, 27)"
       ]
      }
     ],
     "prompt_number": 198
    },
    {
     "cell_type": "code",
     "collapsed": false,
     "input": [
      "tagger = pycrfsuite.Tagger()\n",
      "tagger.open('house_b_1.crfsuite')\n",
      "        "
     ],
     "language": "python",
     "metadata": {},
     "outputs": [
      {
       "metadata": {},
       "output_type": "pyout",
       "prompt_number": 199,
       "text": [
        "<contextlib.closing at 0x12e8cc890>"
       ]
      }
     ],
     "prompt_number": 199
    },
    {
     "cell_type": "code",
     "collapsed": false,
     "input": [
      "y_n = []\n",
      "for xseq in X_test:\n",
      "    for x in xseq:\n",
      "        y_n.append(tagger.tag(x))\n",
      "y_n = np.array(y_n)\n"
     ],
     "language": "python",
     "metadata": {},
     "outputs": [],
     "prompt_number": 200
    },
    {
     "cell_type": "code",
     "collapsed": false,
     "input": [
      "from collections import Counter\n",
      "info = tagger.info()\n",
      "\n",
      "def print_transitions(trans_features):\n",
      "    for (label_from, label_to), weight in trans_features:\n",
      "        print(\"%-6s -> %-7s %0.6f\" % (label_from, label_to, weight))\n",
      "\n",
      "print(\"Top likely transitions:\")\n",
      "print_transitions(Counter(info.transitions).most_common(15))\n",
      "\n",
      "print(\"\\nTop unlikely transitions:\")\n",
      "print_transitions(Counter(info.transitions).most_common()[-15:])"
     ],
     "language": "python",
     "metadata": {},
     "outputs": [
      {
       "output_type": "stream",
       "stream": "stdout",
       "text": [
        "Top likely transitions:\n",
        "1      -> 1       1.744631\n",
        "10     -> 10      1.709379\n",
        "0      -> 0       0.670392\n",
        "40     -> 40      0.273779\n",
        "32     -> 32      0.107054\n",
        "35     -> 35      0.072121\n",
        "5      -> 5       0.062587\n",
        "13     -> 13      0.059083\n",
        "33     -> 33      0.028722\n",
        "34     -> 34      0.020639\n",
        "4      -> 4       0.014193\n",
        "43     -> 43      0.005333\n",
        "11     -> 11      0.005152\n",
        "6      -> 6       0.005079\n",
        "15     -> 15      0.002507\n",
        "\n",
        "Top unlikely transitions:\n",
        "0      -> 40      -0.006054\n",
        "40     -> 0       -0.006071\n",
        "4      -> 10      -0.020344\n",
        "43     -> 1       -0.033846\n",
        "34     -> 1       -0.034785\n",
        "5      -> 1       -0.036686\n",
        "35     -> 1       -0.037152\n",
        "40     -> 1       -0.049902\n",
        "1      -> 40      -0.049914\n",
        "10     -> 0       -0.080974\n",
        "0      -> 10      -0.081038\n",
        "1      -> 0       -0.145362\n",
        "0      -> 1       -0.145402\n",
        "1      -> 10      -1.456405\n",
        "10     -> 1       -1.456535\n"
       ]
      }
     ],
     "prompt_number": 201
    },
    {
     "cell_type": "code",
     "collapsed": false,
     "input": [
      "y_n[y_n!='1']"
     ],
     "language": "python",
     "metadata": {},
     "outputs": [
      {
       "metadata": {},
       "output_type": "pyout",
       "prompt_number": 202,
       "text": [
        "array([], \n",
        "      dtype='|S1')"
       ]
      }
     ],
     "prompt_number": 202
    },
    {
     "cell_type": "code",
     "collapsed": false,
     "input": [
      "\n",
      "\n",
      "y_pred = [np.array(tagger.tag(xseq),dtype=np.uint8) for xseq in X_test]\n",
      "y_pred1 = np.hstack(np.array(y_pred))\n",
      "y_test1 = np.hstack(np.array(y_test))\n",
      "compare = zip(y_test1, y_pred1)\n",
      "correct = [ x for x in compare if x[0] == x[1]]\n"
     ],
     "language": "python",
     "metadata": {},
     "outputs": [],
     "prompt_number": 203
    },
    {
     "cell_type": "code",
     "collapsed": false,
     "input": [
      "print('Accuracy: {}'.format(float(len(correct))/len(compare)))\n"
     ],
     "language": "python",
     "metadata": {},
     "outputs": [
      {
       "output_type": "stream",
       "stream": "stdout",
       "text": [
        "Accuracy: 0.79617897229\n"
       ]
      }
     ],
     "prompt_number": 204
    },
    {
     "cell_type": "code",
     "collapsed": false,
     "input": [
      "y_pred\n"
     ],
     "language": "python",
     "metadata": {},
     "outputs": [
      {
       "metadata": {},
       "output_type": "pyout",
       "prompt_number": 205,
       "text": [
        "[array([10, 10, 10, ...,  1,  1,  1], dtype=uint8),\n",
        " array([1, 1, 1, ..., 1, 1, 1], dtype=uint8)]"
       ]
      }
     ],
     "prompt_number": 205
    },
    {
     "cell_type": "code",
     "collapsed": false,
     "input": [],
     "language": "python",
     "metadata": {},
     "outputs": [],
     "prompt_number": 205
    },
    {
     "cell_type": "code",
     "collapsed": false,
     "input": [
      "len(X_train)"
     ],
     "language": "python",
     "metadata": {},
     "outputs": [
      {
       "metadata": {},
       "output_type": "pyout",
       "prompt_number": 206,
       "text": [
        "200"
       ]
      }
     ],
     "prompt_number": 206
    },
    {
     "cell_type": "code",
     "collapsed": false,
     "input": [
      "x= sum( np.array([1,2,3])==np.array([1,2,4]))"
     ],
     "language": "python",
     "metadata": {},
     "outputs": [],
     "prompt_number": "*"
    },
    {
     "cell_type": "code",
     "collapsed": false,
     "input": [
      "numpy.array([1,1,1]) == numpy.array([1,1,1])"
     ],
     "language": "python",
     "metadata": {},
     "outputs": [],
     "prompt_number": "*"
    },
    {
     "cell_type": "code",
     "collapsed": false,
     "input": [],
     "language": "python",
     "metadata": {},
     "outputs": []
    }
   ],
   "metadata": {}
  }
 ]
}