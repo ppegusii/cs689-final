{
 "metadata": {
  "name": ""
 },
 "nbformat": 3,
 "nbformat_minor": 0,
 "worksheets": [
  {
   "cells": [
    {
     "cell_type": "code",
     "collapsed": false,
     "input": [
      "import os\n",
      "import pandas as pd\n",
      "import gzip\n",
      "import load"
     ],
     "language": "python",
     "metadata": {},
     "outputs": [],
     "prompt_number": 1
    },
    {
     "cell_type": "code",
     "collapsed": false,
     "input": [
      "def combine_features(house, features):\n",
      "    fname = '../data/kasteren/2010/datasets/house{house}/{feature}.csv.gz'\n",
      "\n",
      "    files = map(lambda f: fname.format(house=house, feature=f), features)\n",
      "    data_arr = map(lambda loc: load.data(loc), files)\n",
      "    arr = []\n",
      "    for i, d in enumerate(data_arr):\n",
      "        if i != len(data_arr) - 1:\n",
      "            del d['activity']\n",
      "        arr.append(d)\n",
      "\n",
      "    df = pd.concat(arr, axis = 1)\n",
      "\n",
      "    print len(df.columns)\n",
      "    f = '../data/kasteren/2010/datasets/house{house}/{feature}.csv.gz'.format(house=house, feature=''.join(features))\n",
      "\n",
      "    df.to_csv(gzip.open(f, 'w'))"
     ],
     "language": "python",
     "metadata": {},
     "outputs": [],
     "prompt_number": 5
    },
    {
     "cell_type": "code",
     "collapsed": false,
     "input": [
      "combine_features('A',['last', 'change'])"
     ],
     "language": "python",
     "metadata": {},
     "outputs": [
      {
       "output_type": "stream",
       "stream": "stdout",
       "text": [
        "29\n"
       ]
      }
     ],
     "prompt_number": 6
    },
    {
     "cell_type": "code",
     "collapsed": false,
     "input": [
      "combine_features('B',['last', 'change'])\n",
      "combine_features('C',['last', 'change'])"
     ],
     "language": "python",
     "metadata": {},
     "outputs": [
      {
       "output_type": "stream",
       "stream": "stdout",
       "text": [
        "57\n",
        "47"
       ]
      },
      {
       "output_type": "stream",
       "stream": "stdout",
       "text": [
        "\n"
       ]
      }
     ],
     "prompt_number": 7
    },
    {
     "cell_type": "code",
     "collapsed": false,
     "input": [],
     "language": "python",
     "metadata": {},
     "outputs": []
    }
   ],
   "metadata": {}
  }
 ]
}